{
 "cells": [
  {
   "cell_type": "code",
   "execution_count": 216,
   "metadata": {},
   "outputs": [],
   "source": [
    "import pandas as pd\n",
    "import numpy as np\n",
    "import matplotlib.pyplot as plt\n",
    "%matplotlib inline\n",
    "import seaborn as sns\n",
    "sns.set_style(style='darkgrid')"
   ]
  },
  {
   "cell_type": "markdown",
   "metadata": {},
   "source": [
    "Ladataan liigadata, joka sisältää SM-liigan runkosarjan otteluiden lopputulokset viimeiseltä kymmeneltä kaudelta. \n",
    "Data on koottu excelin query-toiminnon avulla Liigan sivuilta, esim. http://liiga.fi/fi/ottelut/2018-2019/runkosarja/\n",
    "Yleisömäärät olivat saatavilla vain kaudesta 2014-2015 eteenpäin"
   ]
  },
  {
   "cell_type": "code",
   "execution_count": 46,
   "metadata": {},
   "outputs": [],
   "source": [
    "df = pd.read_excel('liiga_10_kautta.xlsx')"
   ]
  },
  {
   "cell_type": "code",
   "execution_count": 47,
   "metadata": {},
   "outputs": [
    {
     "data": {
      "text/html": [
       "<div>\n",
       "<style scoped>\n",
       "    .dataframe tbody tr th:only-of-type {\n",
       "        vertical-align: middle;\n",
       "    }\n",
       "\n",
       "    .dataframe tbody tr th {\n",
       "        vertical-align: top;\n",
       "    }\n",
       "\n",
       "    .dataframe thead th {\n",
       "        text-align: right;\n",
       "    }\n",
       "</style>\n",
       "<table border=\"1\" class=\"dataframe\">\n",
       "  <thead>\n",
       "    <tr style=\"text-align: right;\">\n",
       "      <th></th>\n",
       "      <th>Peli</th>\n",
       "      <th>Pvm</th>\n",
       "      <th>Aika</th>\n",
       "      <th>Kotijoukkue</th>\n",
       "      <th>Vierasjoukkue</th>\n",
       "      <th>Kotimaalit</th>\n",
       "      <th>Vierasmaalit</th>\n",
       "      <th>Tapa</th>\n",
       "      <th>Yleisöä</th>\n",
       "    </tr>\n",
       "  </thead>\n",
       "  <tbody>\n",
       "    <tr>\n",
       "      <th>0</th>\n",
       "      <td>1</td>\n",
       "      <td>2008-09-11</td>\n",
       "      <td>18:30:00</td>\n",
       "      <td>HIFK</td>\n",
       "      <td>Jokerit</td>\n",
       "      <td>5</td>\n",
       "      <td>3</td>\n",
       "      <td>N</td>\n",
       "      <td>-</td>\n",
       "    </tr>\n",
       "    <tr>\n",
       "      <th>1</th>\n",
       "      <td>2</td>\n",
       "      <td>2008-09-11</td>\n",
       "      <td>18:30:00</td>\n",
       "      <td>Ilves</td>\n",
       "      <td>Tappara</td>\n",
       "      <td>5</td>\n",
       "      <td>4</td>\n",
       "      <td>N</td>\n",
       "      <td>-</td>\n",
       "    </tr>\n",
       "    <tr>\n",
       "      <th>2</th>\n",
       "      <td>3</td>\n",
       "      <td>2008-09-11</td>\n",
       "      <td>18:30:00</td>\n",
       "      <td>KalPa</td>\n",
       "      <td>JYP</td>\n",
       "      <td>1</td>\n",
       "      <td>3</td>\n",
       "      <td>N</td>\n",
       "      <td>-</td>\n",
       "    </tr>\n",
       "    <tr>\n",
       "      <th>3</th>\n",
       "      <td>4</td>\n",
       "      <td>2008-09-11</td>\n",
       "      <td>18:30:00</td>\n",
       "      <td>Kärpät</td>\n",
       "      <td>SaiPa</td>\n",
       "      <td>7</td>\n",
       "      <td>0</td>\n",
       "      <td>N</td>\n",
       "      <td>-</td>\n",
       "    </tr>\n",
       "    <tr>\n",
       "      <th>4</th>\n",
       "      <td>5</td>\n",
       "      <td>2008-09-11</td>\n",
       "      <td>18:30:00</td>\n",
       "      <td>Pelicans</td>\n",
       "      <td>Blues</td>\n",
       "      <td>1</td>\n",
       "      <td>4</td>\n",
       "      <td>N</td>\n",
       "      <td>-</td>\n",
       "    </tr>\n",
       "  </tbody>\n",
       "</table>\n",
       "</div>"
      ],
      "text/plain": [
       "   Peli        Pvm      Aika Kotijoukkue Vierasjoukkue  Kotimaalit  \\\n",
       "0     1 2008-09-11  18:30:00        HIFK       Jokerit           5   \n",
       "1     2 2008-09-11  18:30:00       Ilves       Tappara           5   \n",
       "2     3 2008-09-11  18:30:00       KalPa           JYP           1   \n",
       "3     4 2008-09-11  18:30:00      Kärpät         SaiPa           7   \n",
       "4     5 2008-09-11  18:30:00    Pelicans         Blues           1   \n",
       "\n",
       "   Vierasmaalit Tapa Yleisöä  \n",
       "0             3    N       -  \n",
       "1             4    N       -  \n",
       "2             3    N       -  \n",
       "3             0    N       -  \n",
       "4             4    N       -  "
      ]
     },
     "execution_count": 47,
     "metadata": {},
     "output_type": "execute_result"
    }
   ],
   "source": [
    "df.head()"
   ]
  },
  {
   "cell_type": "markdown",
   "metadata": {},
   "source": [
    "# Peliaikatulos:\n",
    "Luodaan sarake peliaikatuloksille, jotta voidaan myöhemmin tarkastella esimerkiksi yleisimpiä otteluiden päättymistuloksia varsinaisella peliajalla."
   ]
  },
  {
   "cell_type": "code",
   "execution_count": 48,
   "metadata": {},
   "outputs": [],
   "source": [
    "peliaikatulos = []\n",
    "for i in range(0,4262):\n",
    "    \n",
    "    if df['Tapa'].iloc[i] =='N':\n",
    "    \n",
    "        peliaikatulos.append(str(df['Kotimaalit'].iloc[i]) + '-' + str(df['Vierasmaalit'].iloc[i]))\n",
    "        \n",
    "    else:\n",
    "        \n",
    "        if df['Kotimaalit'].iloc[i] > df['Vierasmaalit'].iloc[i]:\n",
    "            \n",
    "            peliaikatulos.append(str(df['Kotimaalit'].iloc[i]-1) + '-' + str(df['Vierasmaalit'].iloc[i]))\n",
    "            \n",
    "        elif df['Kotimaalit'].iloc[i] < df['Vierasmaalit'].iloc[i]:\n",
    "\n",
    "            peliaikatulos.append(str(df['Kotimaalit'].iloc[i]) + '-' + str(df['Vierasmaalit'].iloc[i]-1))\n",
    "            \n",
    "df['Peliaikatulos'] = peliaikatulos"
   ]
  },
  {
   "cell_type": "markdown",
   "metadata": {},
   "source": [
    "# Peliaikamaalit:\n",
    "Luodaan sarake varsinaisella peliajalla tehdyille maaleille. Tämän avulla voidaan tarkastella esimerkiksi yli/alle 5.5 maalia per ottelu jakaumaa."
   ]
  },
  {
   "cell_type": "code",
   "execution_count": 49,
   "metadata": {},
   "outputs": [],
   "source": [
    "peliaikamaalit = []\n",
    "\n",
    "for i in range(0,4262):\n",
    "    \n",
    "    if df.iloc[i].Tapa == 'N':\n",
    "        peliaikamaalit.append(df.iloc[i].Kotimaalit + df.iloc[i].Vierasmaalit)\n",
    "    \n",
    "    else:\n",
    "        peliaikamaalit.append(df.iloc[i].Kotimaalit + df.iloc[i].Vierasmaalit - 1)\n",
    "\n",
    "df['Peliaikamaalit'] = peliaikamaalit"
   ]
  },
  {
   "cell_type": "markdown",
   "metadata": {},
   "source": [
    "# Kausi:\n",
    "Lisätään kausi-sarake, jotta voidaan verrata tuloksia eri kausien välillä. "
   ]
  },
  {
   "cell_type": "code",
   "execution_count": 50,
   "metadata": {},
   "outputs": [
    {
     "data": {
      "text/plain": [
       "(4262, 11)"
      ]
     },
     "execution_count": 50,
     "metadata": {},
     "output_type": "execute_result"
    }
   ],
   "source": [
    "#Pelien määrä datasetissä = 4262\n",
    "df.shape"
   ]
  },
  {
   "cell_type": "code",
   "execution_count": 51,
   "metadata": {},
   "outputs": [],
   "source": [
    "kausi = []\n",
    "kaudet = ['2008-2009','2009-2010','2010-2011','2011-2012','2012-2013',\n",
    "          '2013-2014','2014-2015','2015-2016','2016-2017','2017-2018']\n",
    "vuodet = ['2008','2009','2010','2011','2012',\n",
    "          '2013','2014','2015','2016','2017','2018']\n",
    "\n",
    "\n",
    "#Tiedetään, että runkosarja alkaa syyskuussa(9) ja loppuu maaliskuussa(3).\n",
    "\n",
    "k=0\n",
    "v=0\n",
    "i=0\n",
    "while i in range(0,4262):\n",
    "        \n",
    "    if df.Pvm[i] >= df[(df.Pvm.dt.year == int(vuodet[v])) & (df.Pvm.dt.month==9)].Pvm.min() and df.Pvm[i] <= df[(df.Pvm.dt.year == int(vuodet[v+1])) & (df.Pvm.dt.month==3)].Pvm.max():\n",
    "            \n",
    "        kausi.append(kaudet[k])\n",
    "        i = i+1\n",
    "        \n",
    "    else:\n",
    "        k = k+1\n",
    "        v = v+1\n",
    "        \n",
    "df['Kausi'] = kausi"
   ]
  },
  {
   "cell_type": "markdown",
   "metadata": {},
   "source": [
    "# Merkki:\n",
    "Lisätään vedonlyönnistä tuttu 1X2-merkki sen mukaan, päättyikö ottelu tasan, voittiko kotijoukkue vai voittiko vierasjoukkue."
   ]
  },
  {
   "cell_type": "code",
   "execution_count": 52,
   "metadata": {},
   "outputs": [],
   "source": [
    "merkki = []\n",
    "\n",
    "for i in range(0,4262):\n",
    "    \n",
    "    if (df.Kotimaalit.iloc[i] > df.Vierasmaalit.iloc[i]) and (df.Tapa.iloc[i]=='N'):\n",
    "        merkki.append('1')\n",
    "        \n",
    "    elif (df.Kotimaalit.iloc[i] < df.Vierasmaalit.iloc[i]) and (df.Tapa.iloc[i]=='N'):\n",
    "        merkki.append('2')\n",
    "        \n",
    "    else:\n",
    "        merkki.append('X')\n",
    "\n",
    "df['Merkki'] = merkki"
   ]
  },
  {
   "cell_type": "markdown",
   "metadata": {},
   "source": [
    "# Pelasiko joukkue päivää aiemmin:\n",
    "Lisätään kaksi saraketta; pelasiko kotijoukkue \"eilen\" ja pelasiko vierasjoukkue \"eilen\". Tämän tarkoituksena on tehdä mahdollisuus tarkastella joukkueita peräkkäisten pelipäivien osalta. Mikä on esimerkiksi väsymyksen vaikutus peräkkäisinä pelipäivinä?"
   ]
  },
  {
   "cell_type": "code",
   "execution_count": 53,
   "metadata": {},
   "outputs": [],
   "source": [
    "#Pelasiko kotijoukkue \"eilen\"?\n",
    "\n",
    "#Pelipäivien määrä = 1003 (len(df.Pvm.unique()))\n",
    "\n",
    "#Lisätään datasetin alkuun ensimmäisen kierroksen pelien verran nollia, koska ennen ensimmäistä päivää \n",
    "#kotijoukkue ei ole voinut pelata\n",
    "\n",
    "koti_pelasi_eilen = []\n",
    "ensimmainen_kierros = len(df[df['Pvm'] == df['Pvm'].unique()[0]].Kotijoukkue.values)\n",
    "koti_pelasi_eilen = koti_pelasi_eilen + [0]*ensimmainen_kierros\n",
    "\n",
    "\n",
    "for i in range(0,1002):\n",
    "    \n",
    "    #Lasketaan pelien määrä tarkastelupäivinä\n",
    "    pelien_maara_i_1 = len(df[df['Pvm'] == df['Pvm'].unique()[i+1]].Kotijoukkue.values)\n",
    "    pelien_maara_i = len(df[df['Pvm'] == df['Pvm'].unique()[i]].Kotijoukkue.values)\n",
    "    \n",
    "    # Jos pelipäivät peräkkäiset, niin...\n",
    "    if (df['Pvm'].unique()[i] - df['Pvm'].unique()[i+1]).astype('timedelta64[D]').astype(int) == -1:\n",
    "    \n",
    "        for p in list(range(0, pelien_maara_i_1)):\n",
    "                #tarkastetaan, pelasiko kotijoukkue eilen kotona...\n",
    "            if  (df[df['Pvm'] == df['Pvm'].unique()[i+1]].Kotijoukkue.values[p]) in (df[df['Pvm'] == df['Pvm'].unique()[i]].Kotijoukkue.values):\n",
    "    \n",
    "                koti_pelasi_eilen.append(1)\n",
    "                #...tai vieraissa\n",
    "            elif (df[df['Pvm'] == df['Pvm'].unique()[i+1]].Kotijoukkue.values[p]) in (df[df['Pvm'] == df['Pvm'].unique()[i]].Vierasjoukkue.values):\n",
    "    \n",
    "                koti_pelasi_eilen.append(1)\n",
    "            \n",
    "                #Jos ei pelannut, niin lisätään nollia\n",
    "            else:\n",
    "\n",
    "                koti_pelasi_eilen.append(0)\n",
    "\n",
    "    # Mikäli päivät eivät olleet peräkkäiset, niin....\n",
    "    elif (df['Pvm'].unique()[i] - df['Pvm'].unique()[i+1]).astype('timedelta64[D]').astype(int) != -1:\n",
    "        \n",
    "        koti_pelasi_eilen = koti_pelasi_eilen + [0]*pelien_maara_i_1\n",
    "\n",
    "df['Koti_pelasi_eilen'] = koti_pelasi_eilen"
   ]
  },
  {
   "cell_type": "code",
   "execution_count": 54,
   "metadata": {},
   "outputs": [],
   "source": [
    "#Sama tarkastelu vierasjoukkueille\n",
    "\n",
    "vieras_pelasi_eilen = []\n",
    "ensimmainen_kierros = len(df[df['Pvm'] == df['Pvm'].unique()[0]].Kotijoukkue.values)\n",
    "vieras_pelasi_eilen = vieras_pelasi_eilen + [0]*ensimmainen_kierros\n",
    "\n",
    "for i in range(0,1002):\n",
    "    \n",
    "    #Lasketaan pelien määrä tarkastelupäivinä\n",
    "    pelien_maara_i_1 = len(df[df['Pvm'] == df['Pvm'].unique()[i+1]].Vierasjoukkue.values)\n",
    "    pelien_maara_i = len(df[df['Pvm'] == df['Pvm'].unique()[i]].Vierasjoukkue.values)\n",
    "    \n",
    "    # Jos pelipäivät peräkkäiset, niin...\n",
    "    if (df['Pvm'].unique()[i] - df['Pvm'].unique()[i+1]).astype('timedelta64[D]').astype(int) == -1:\n",
    "        \n",
    "\n",
    "        for p in list(range(0, pelien_maara_i_1)):\n",
    "                #tarkastetaan, pelasiko vierasjoukkue eilen kotona...\n",
    "            if  (df[df['Pvm'] == df['Pvm'].unique()[i+1]].Vierasjoukkue.values[p]) in (df[df['Pvm'] == df['Pvm'].unique()[i]].Kotijoukkue.values):\n",
    "    \n",
    "                vieras_pelasi_eilen.append(1)\n",
    "                #...tai vieraissa\n",
    "            elif (df[df['Pvm'] == df['Pvm'].unique()[i+1]].Vierasjoukkue.values[p]) in (df[df['Pvm'] == df['Pvm'].unique()[i]].Vierasjoukkue.values):\n",
    "    \n",
    "                vieras_pelasi_eilen.append(1)\n",
    "            \n",
    "                #Jos ei pelannut, niin lisätään nollia\n",
    "            else:\n",
    "\n",
    "                vieras_pelasi_eilen.append(0)\n",
    "        \n",
    "    # Mikäli päivät eivät olleet peräkkäiset, niin....\n",
    "    elif (df['Pvm'].unique()[i] - df['Pvm'].unique()[i+1]).astype('timedelta64[D]').astype(int) != -1:\n",
    "        \n",
    "        vieras_pelasi_eilen = vieras_pelasi_eilen + [0]*pelien_maara_i_1\n",
    "        \n",
    "df['Vieras_pelasi_eilen'] = vieras_pelasi_eilen"
   ]
  },
  {
   "cell_type": "code",
   "execution_count": 67,
   "metadata": {},
   "outputs": [
    {
     "data": {
      "text/html": [
       "<div>\n",
       "<style scoped>\n",
       "    .dataframe tbody tr th:only-of-type {\n",
       "        vertical-align: middle;\n",
       "    }\n",
       "\n",
       "    .dataframe tbody tr th {\n",
       "        vertical-align: top;\n",
       "    }\n",
       "\n",
       "    .dataframe thead th {\n",
       "        text-align: right;\n",
       "    }\n",
       "</style>\n",
       "<table border=\"1\" class=\"dataframe\">\n",
       "  <thead>\n",
       "    <tr style=\"text-align: right;\">\n",
       "      <th></th>\n",
       "      <th>Peli</th>\n",
       "      <th>Pvm</th>\n",
       "      <th>Aika</th>\n",
       "      <th>Kotijoukkue</th>\n",
       "      <th>Vierasjoukkue</th>\n",
       "      <th>Kotimaalit</th>\n",
       "      <th>Vierasmaalit</th>\n",
       "      <th>Tapa</th>\n",
       "      <th>Yleisöä</th>\n",
       "      <th>Peliaikatulos</th>\n",
       "      <th>Peliaikamaalit</th>\n",
       "      <th>Kausi</th>\n",
       "      <th>Merkki</th>\n",
       "      <th>Koti_pelasi_eilen</th>\n",
       "      <th>Vieras_pelasi_eilen</th>\n",
       "    </tr>\n",
       "  </thead>\n",
       "  <tbody>\n",
       "    <tr>\n",
       "      <th>0</th>\n",
       "      <td>1</td>\n",
       "      <td>2008-09-11</td>\n",
       "      <td>18:30:00</td>\n",
       "      <td>HIFK</td>\n",
       "      <td>Jokerit</td>\n",
       "      <td>5</td>\n",
       "      <td>3</td>\n",
       "      <td>N</td>\n",
       "      <td>-</td>\n",
       "      <td>5-3</td>\n",
       "      <td>8</td>\n",
       "      <td>2008-2009</td>\n",
       "      <td>1</td>\n",
       "      <td>0</td>\n",
       "      <td>0</td>\n",
       "    </tr>\n",
       "    <tr>\n",
       "      <th>1</th>\n",
       "      <td>2</td>\n",
       "      <td>2008-09-11</td>\n",
       "      <td>18:30:00</td>\n",
       "      <td>Ilves</td>\n",
       "      <td>Tappara</td>\n",
       "      <td>5</td>\n",
       "      <td>4</td>\n",
       "      <td>N</td>\n",
       "      <td>-</td>\n",
       "      <td>5-4</td>\n",
       "      <td>9</td>\n",
       "      <td>2008-2009</td>\n",
       "      <td>1</td>\n",
       "      <td>0</td>\n",
       "      <td>0</td>\n",
       "    </tr>\n",
       "    <tr>\n",
       "      <th>2</th>\n",
       "      <td>3</td>\n",
       "      <td>2008-09-11</td>\n",
       "      <td>18:30:00</td>\n",
       "      <td>KalPa</td>\n",
       "      <td>JYP</td>\n",
       "      <td>1</td>\n",
       "      <td>3</td>\n",
       "      <td>N</td>\n",
       "      <td>-</td>\n",
       "      <td>1-3</td>\n",
       "      <td>4</td>\n",
       "      <td>2008-2009</td>\n",
       "      <td>2</td>\n",
       "      <td>0</td>\n",
       "      <td>0</td>\n",
       "    </tr>\n",
       "    <tr>\n",
       "      <th>3</th>\n",
       "      <td>4</td>\n",
       "      <td>2008-09-11</td>\n",
       "      <td>18:30:00</td>\n",
       "      <td>Kärpät</td>\n",
       "      <td>SaiPa</td>\n",
       "      <td>7</td>\n",
       "      <td>0</td>\n",
       "      <td>N</td>\n",
       "      <td>-</td>\n",
       "      <td>7-0</td>\n",
       "      <td>7</td>\n",
       "      <td>2008-2009</td>\n",
       "      <td>1</td>\n",
       "      <td>0</td>\n",
       "      <td>0</td>\n",
       "    </tr>\n",
       "    <tr>\n",
       "      <th>4</th>\n",
       "      <td>5</td>\n",
       "      <td>2008-09-11</td>\n",
       "      <td>18:30:00</td>\n",
       "      <td>Pelicans</td>\n",
       "      <td>Blues</td>\n",
       "      <td>1</td>\n",
       "      <td>4</td>\n",
       "      <td>N</td>\n",
       "      <td>-</td>\n",
       "      <td>1-4</td>\n",
       "      <td>5</td>\n",
       "      <td>2008-2009</td>\n",
       "      <td>2</td>\n",
       "      <td>0</td>\n",
       "      <td>0</td>\n",
       "    </tr>\n",
       "  </tbody>\n",
       "</table>\n",
       "</div>"
      ],
      "text/plain": [
       "   Peli        Pvm      Aika Kotijoukkue Vierasjoukkue  Kotimaalit  \\\n",
       "0     1 2008-09-11  18:30:00        HIFK       Jokerit           5   \n",
       "1     2 2008-09-11  18:30:00       Ilves       Tappara           5   \n",
       "2     3 2008-09-11  18:30:00       KalPa           JYP           1   \n",
       "3     4 2008-09-11  18:30:00      Kärpät         SaiPa           7   \n",
       "4     5 2008-09-11  18:30:00    Pelicans         Blues           1   \n",
       "\n",
       "   Vierasmaalit Tapa Yleisöä Peliaikatulos  Peliaikamaalit      Kausi Merkki  \\\n",
       "0             3    N       -           5-3               8  2008-2009      1   \n",
       "1             4    N       -           5-4               9  2008-2009      1   \n",
       "2             3    N       -           1-3               4  2008-2009      2   \n",
       "3             0    N       -           7-0               7  2008-2009      1   \n",
       "4             4    N       -           1-4               5  2008-2009      2   \n",
       "\n",
       "   Koti_pelasi_eilen  Vieras_pelasi_eilen  \n",
       "0                  0                    0  \n",
       "1                  0                    0  \n",
       "2                  0                    0  \n",
       "3                  0                    0  \n",
       "4                  0                    0  "
      ]
     },
     "execution_count": 67,
     "metadata": {},
     "output_type": "execute_result"
    }
   ],
   "source": [
    "#Lopullinen dataframe analyysejä varten:\n",
    "df.head()"
   ]
  },
  {
   "cell_type": "markdown",
   "metadata": {},
   "source": [
    "# Analyysit"
   ]
  },
  {
   "cell_type": "markdown",
   "metadata": {},
   "source": [
    "Yleisimmät kotivoittoon päättyneiden otteluiden tulokset viimeisen kymmenen kauden ajalta ja niiden osuus prosentteina kaikista kotivoittotuloksista"
   ]
  },
  {
   "cell_type": "code",
   "execution_count": 214,
   "metadata": {},
   "outputs": [
    {
     "data": {
      "text/plain": [
       "3-2    0.114990\n",
       "4-2    0.094969\n",
       "4-1    0.093943\n",
       "2-1    0.092916\n",
       "3-1    0.092402\n",
       "Name: Peliaikatulos, dtype: float64"
      ]
     },
     "execution_count": 214,
     "metadata": {},
     "output_type": "execute_result"
    }
   ],
   "source": [
    "df[df.Merkki=='1'].Peliaikatulos.value_counts(normalize=True).head(5)"
   ]
  },
  {
   "cell_type": "code",
   "execution_count": 272,
   "metadata": {},
   "outputs": [
    {
     "data": {
      "text/plain": [
       "0.4892197125256673"
      ]
     },
     "execution_count": 272,
     "metadata": {},
     "output_type": "execute_result"
    }
   ],
   "source": [
    "#Viisi yleisintä kotivoittoon päättyneistä pelituloksista kattaa 49% kaikista kotivoittotuloksista\n",
    "df[df.Merkki=='1'].Peliaikatulos.value_counts(normalize=True).head(5).values.sum()"
   ]
  },
  {
   "cell_type": "markdown",
   "metadata": {},
   "source": [
    "Yleisimmät tasapeliin päättyneiden otteluiden tulokset viimeisen kymmenen kauden ajalta ja niiden osuus prosentteina kaikista tasapelituloksista"
   ]
  },
  {
   "cell_type": "code",
   "execution_count": 73,
   "metadata": {},
   "outputs": [
    {
     "data": {
      "text/plain": [
       "2-2    0.376890\n",
       "1-1    0.241901\n",
       "3-3    0.225702\n",
       "4-4    0.074514\n",
       "0-0    0.046436\n",
       "Name: Peliaikatulos, dtype: float64"
      ]
     },
     "execution_count": 73,
     "metadata": {},
     "output_type": "execute_result"
    }
   ],
   "source": [
    "df[df.Merkki=='X'].Peliaikatulos.value_counts(normalize=True).head(5)"
   ]
  },
  {
   "cell_type": "code",
   "execution_count": 74,
   "metadata": {},
   "outputs": [
    {
     "data": {
      "text/plain": [
       "0.9654427645788337"
      ]
     },
     "execution_count": 74,
     "metadata": {},
     "output_type": "execute_result"
    }
   ],
   "source": [
    "#Viisi yleisintä tasapelitulosta kattaa yli 96% kaikista tasapelituloksista\n",
    "df[df.Merkki =='X'].Peliaikatulos.value_counts(normalize=True).head(5).values.sum()"
   ]
  },
  {
   "cell_type": "markdown",
   "metadata": {},
   "source": [
    "Yleisimmät vierasvoittoon päättyneiden otteluiden tulokset viimeisen kymmenen kauden ajalta ja niiden osuus prosentteina kaikista vierasvoittotuloksista"
   ]
  },
  {
   "cell_type": "code",
   "execution_count": 75,
   "metadata": {},
   "outputs": [
    {
     "data": {
      "text/plain": [
       "1-2    0.124640\n",
       "2-3    0.120317\n",
       "1-3    0.110951\n",
       "1-4    0.103746\n",
       "2-4    0.085735\n",
       "Name: Peliaikatulos, dtype: float64"
      ]
     },
     "execution_count": 75,
     "metadata": {},
     "output_type": "execute_result"
    }
   ],
   "source": [
    "df[df.Merkki=='2'].Peliaikatulos.value_counts(normalize=True).head(5)"
   ]
  },
  {
   "cell_type": "code",
   "execution_count": 76,
   "metadata": {},
   "outputs": [
    {
     "data": {
      "text/plain": [
       "0.5453890489913544"
      ]
     },
     "execution_count": 76,
     "metadata": {},
     "output_type": "execute_result"
    }
   ],
   "source": [
    "#Viisi yleisintä vierasvoittoon päättyneistä pelituloksista kattaa 54% kaikista vierasvoittotuloksista\n",
    "df[df.Merkki=='2'].Peliaikatulos.value_counts(normalize=True).head(5).values.sum()"
   ]
  },
  {
   "cell_type": "markdown",
   "metadata": {},
   "source": [
    "Yleisimmät tulokset kaikkiaan viimeisen kymmenen kauden ajalta ja niiden osuus kaikista pelituloksista"
   ]
  },
  {
   "cell_type": "code",
   "execution_count": 143,
   "metadata": {},
   "outputs": [
    {
     "data": {
      "text/plain": [
       "2-2    349\n",
       "3-2    224\n",
       "1-1    224\n",
       "3-3    209\n",
       "4-2    185\n",
       "Name: Peliaikatulos, dtype: int64"
      ]
     },
     "execution_count": 143,
     "metadata": {},
     "output_type": "execute_result"
    }
   ],
   "source": [
    "df.Peliaikatulos.value_counts(normalize=False).head(5)"
   ]
  },
  {
   "cell_type": "code",
   "execution_count": 144,
   "metadata": {},
   "outputs": [
    {
     "data": {
      "text/plain": [
       "0.27944626935710937"
      ]
     },
     "execution_count": 144,
     "metadata": {},
     "output_type": "execute_result"
    }
   ],
   "source": [
    "#Kaikista pelituksista viisi yleisintä kattaa 28% tuloksista\n",
    "df.Peliaikatulos.value_counts(normalize=True).head(5).values.sum()"
   ]
  },
  {
   "cell_type": "markdown",
   "metadata": {},
   "source": [
    "Peliajalla (ei jatkoaika) tehtyjen maalien määrät"
   ]
  },
  {
   "cell_type": "code",
   "execution_count": 82,
   "metadata": {},
   "outputs": [
    {
     "data": {
      "text/plain": [
       "0.43899577663068984"
      ]
     },
     "execution_count": 82,
     "metadata": {},
     "output_type": "execute_result"
    }
   ],
   "source": [
    "#Maaleja alle 4.5 kappaletta\n",
    "df[df.Peliaikamaalit < 4.5].shape[0] / df.shape[0]"
   ]
  },
  {
   "cell_type": "code",
   "execution_count": 275,
   "metadata": {},
   "outputs": [
    {
     "data": {
      "text/plain": [
       "0.6198967620835288"
      ]
     },
     "execution_count": 275,
     "metadata": {},
     "output_type": "execute_result"
    }
   ],
   "source": [
    "#Maaleja alle 5.5 kappaletta\n",
    "df[df.Peliaikamaalit < 5.5].shape[0] / df.shape[0]"
   ]
  },
  {
   "cell_type": "markdown",
   "metadata": {},
   "source": [
    "Vedonlyönnin näkökulmat - 1X2"
   ]
  },
  {
   "cell_type": "code",
   "execution_count": 89,
   "metadata": {},
   "outputs": [
    {
     "data": {
      "text/plain": [
       "Kausi      Merkki\n",
       "2008-2009  1         0.472906\n",
       "           2         0.364532\n",
       "           X         0.162562\n",
       "2009-2010  1         0.463054\n",
       "           2         0.354680\n",
       "           X         0.182266\n",
       "2010-2011  1         0.454762\n",
       "           2         0.330952\n",
       "           X         0.214286\n",
       "2011-2012  1         0.454762\n",
       "           2         0.340476\n",
       "           X         0.204762\n",
       "2012-2013  1         0.445238\n",
       "           2         0.316667\n",
       "           X         0.238095\n",
       "2013-2014  1         0.485714\n",
       "           2         0.319048\n",
       "           X         0.195238\n",
       "2014-2015  1         0.483333\n",
       "           2         0.273810\n",
       "           X         0.242857\n",
       "2015-2016  1         0.444444\n",
       "           2         0.326667\n",
       "           X         0.228889\n",
       "2016-2017  1         0.417778\n",
       "           2         0.331111\n",
       "           X         0.251111\n",
       "2017-2018  1         0.453333\n",
       "           2         0.302222\n",
       "           X         0.244444\n",
       "Name: Merkki, dtype: float64"
      ]
     },
     "execution_count": 89,
     "metadata": {},
     "output_type": "execute_result"
    }
   ],
   "source": [
    "#1X2 prosenttiosuudet vuosittain\n",
    "df.groupby('Kausi').Merkki.value_counts(normalize=True)"
   ]
  },
  {
   "cell_type": "code",
   "execution_count": 269,
   "metadata": {},
   "outputs": [
    {
     "data": {
      "text/plain": [
       "[Text(0,0.5,'Tasapelien %osuus'), Text(0.5,0,'Kausi')]"
      ]
     },
     "execution_count": 269,
     "metadata": {},
     "output_type": "execute_result"
    },
    {
     "data": {
      "image/png": "[encoded data removed]",
      "text/plain": [
       "<Figure size 864x432 with 1 Axes>"
      ]
     },
     "metadata": {},
     "output_type": "display_data"
    }
   ],
   "source": [
    "#Tarkastellaan tasapelien määrän kehitystä:\n",
    "y = df.groupby('Kausi').Merkki.value_counts(normalize=True).values[2:30:3]\n",
    "\n",
    "plt.figure(figsize=(12,6))\n",
    "sns.lineplot(x=kaudet, y=y).set(xlabel='Kausi', ylabel='Tasapelien %osuus')"
   ]
  },
  {
   "cell_type": "code",
   "execution_count": 145,
   "metadata": {},
   "outputs": [
    {
     "data": {
      "text/plain": [
       "Kausi      Tapa\n",
       "2008-2009  N       0.837438\n",
       "           JA      0.086207\n",
       "           VL      0.076355\n",
       "2009-2010  N       0.817734\n",
       "           JA      0.093596\n",
       "           VL      0.088670\n",
       "2010-2011  N       0.785714\n",
       "           VL      0.128571\n",
       "           JA      0.085714\n",
       "2011-2012  N       0.795238\n",
       "           VL      0.109524\n",
       "           JA      0.095238\n",
       "2012-2013  N       0.761905\n",
       "           VL      0.147619\n",
       "           JA      0.090476\n",
       "2013-2014  N       0.804762\n",
       "           VL      0.114286\n",
       "           JA      0.080952\n",
       "2014-2015  N       0.757143\n",
       "           VL      0.142857\n",
       "           JA      0.100000\n",
       "2015-2016  N       0.771111\n",
       "           VL      0.122222\n",
       "           JA      0.106667\n",
       "2016-2017  N       0.748889\n",
       "           JA      0.146667\n",
       "           VL      0.104444\n",
       "2017-2018  N       0.755556\n",
       "           JA      0.142222\n",
       "           VL      0.102222\n",
       "Name: Tapa, dtype: float64"
      ]
     },
     "execution_count": 145,
     "metadata": {},
     "output_type": "execute_result"
    }
   ],
   "source": [
    "#Pelin päättyminen varsinaisella peliajalla (N), jatkoajalla(JA) tai voittolaukauskilpailussa (VL)\n",
    "df.groupby('Kausi').Tapa.value_counts(normalize=True)"
   ]
  },
  {
   "cell_type": "code",
   "execution_count": 148,
   "metadata": {},
   "outputs": [
    {
     "data": {
      "text/plain": [
       "1    0.457062\n",
       "2    0.325669\n",
       "X    0.217269\n",
       "Name: Merkki, dtype: float64"
      ]
     },
     "execution_count": 148,
     "metadata": {},
     "output_type": "execute_result"
    }
   ],
   "source": [
    "#Vedonlyöntimerkkien jakautuminen kaikkina vuosina\n",
    "df.Merkki.value_counts(normalize=True)"
   ]
  },
  {
   "cell_type": "code",
   "execution_count": 271,
   "metadata": {},
   "outputs": [
    {
     "data": {
      "text/plain": [
       "Text(0.5,1,'Vedonlyöntimerkkien määrät kaikkina vuosina')"
      ]
     },
     "execution_count": 271,
     "metadata": {},
     "output_type": "execute_result"
    },
    {
     "data": {
      "image/png": "[encoded data removed]",
      "text/plain": [
       "<Figure size 432x288 with 1 Axes>"
      ]
     },
     "metadata": {},
     "output_type": "display_data"
    }
   ],
   "source": [
    "sns.countplot(x='Merkki',data=df)\n",
    "plt.title('Vedonlyöntimerkkien määrät kaikkina vuosina')"
   ]
  },
  {
   "cell_type": "markdown",
   "metadata": {},
   "source": [
    "Tarkastellaan seuraavaksi pelejä, joissa toinen joukkue (tai molemmat) on pelannut edellisenä päivänä \n",
    "ja toinen joukkue on lähtenyt peliin levänneen"
   ]
  },
  {
   "cell_type": "code",
   "execution_count": 372,
   "metadata": {},
   "outputs": [
    {
     "data": {
      "text/plain": [
       "Text(0.5,1,'Kotijoukkue levännyt, vieras pelannut päivää aiemmin')"
      ]
     },
     "execution_count": 372,
     "metadata": {},
     "output_type": "execute_result"
    },
    {
     "data": {
      "image/png": "[encoded data removed]",
      "text/plain": [
       "<Figure size 432x288 with 1 Axes>"
      ]
     },
     "metadata": {},
     "output_type": "display_data"
    }
   ],
   "source": [
    "#Kotijoukkue levännyt, vierasjoukkue pelannut edellisenä päivänä\n",
    "#Pelejä 436 kpl kymmenen vuoden aikana\n",
    "\n",
    "df[(df.Koti_pelasi_eilen == 0) & (df.Vieras_pelasi_eilen == 1)].Merkki.value_counts(normalize=True).plot(kind='bar').set(xlabel='Merkki', ylabel='%osuus')\n",
    "plt.title('Kotijoukkue levännyt, vieras pelannut päivää aiemmin')\n"
   ]
  },
  {
   "cell_type": "code",
   "execution_count": 373,
   "metadata": {},
   "outputs": [
    {
     "data": {
      "text/plain": [
       "Text(0.5,1,'Vierasjoukkue levännyt, kotijoukkue pelannut päivää aiemmin')"
      ]
     },
     "execution_count": 373,
     "metadata": {},
     "output_type": "execute_result"
    },
    {
     "data": {
      "image/png": "[encoded data removed]",
      "text/plain": [
       "<Figure size 432x288 with 1 Axes>"
      ]
     },
     "metadata": {},
     "output_type": "display_data"
    }
   ],
   "source": [
    "#Vierasjoukkue levännyt, kotijoukkue pelannut päivää aiemmin\n",
    "#Pelejä vain 202 kpl viimeisen kymmenen vuoden aikana\n",
    "df[(df.Koti_pelasi_eilen == 1) & (df.Vieras_pelasi_eilen == 0)].Merkki.value_counts(normalize=True).plot(kind='bar').set(xlabel='Merkki', ylabel='%osuus')\n",
    "plt.title('Vierasjoukkue levännyt, kotijoukkue pelannut päivää aiemmin')"
   ]
  },
  {
   "cell_type": "code",
   "execution_count": 374,
   "metadata": {},
   "outputs": [
    {
     "data": {
      "text/plain": [
       "Text(0.5,1,'Molemmat joukkueet pelanneet päivää aiemmin')"
      ]
     },
     "execution_count": 374,
     "metadata": {},
     "output_type": "execute_result"
    },
    {
     "data": {
      "image/png": "[encoded data removed]",
      "text/plain": [
       "<Figure size 432x288 with 1 Axes>"
      ]
     },
     "metadata": {},
     "output_type": "display_data"
    }
   ],
   "source": [
    "#Molemmat pelanneet edellisenä päivänä\n",
    "#Pelejä yhteensä 376 kpl kymmenen vuoden aikana\n",
    "df[(df.Koti_pelasi_eilen == 1) & (df.Vieras_pelasi_eilen == 1)].Merkki.value_counts(normalize=True).plot(kind='bar').set(xlabel='Merkki', ylabel='%osuus')\n",
    "plt.title('Molemmat joukkueet pelanneet päivää aiemmin')"
   ]
  },
  {
   "cell_type": "markdown",
   "metadata": {},
   "source": [
    "Tulosveto What if: Tarkastellaan seuraavaksi tulosvetoa, eli vetomuotoa, jossa tulee arvata pelin oikea tulos. Katsotaan miten olisi käynyt, jos olisimme lyöneet vetoa jokaisesta pelistä käyttämällä x-kappaletta (head(x)) yleisintä tulosta jokaiseen peliin.Keskikertoimen avulla voidaan testata sitä, mikä olisi pitänyt olla kertoimien keskiarvo, jotta vedot olisivat olleet tuottavia kausien ajan."
   ]
  },
  {
   "cell_type": "code",
   "execution_count": 213,
   "metadata": {},
   "outputs": [
    {
     "data": {
      "text/plain": [
       "22.850000000005387"
      ]
     },
     "execution_count": 213,
     "metadata": {},
     "output_type": "execute_result"
    }
   ],
   "source": [
    "vedot = df.Peliaikatulos.value_counts().head(3).index.values\n",
    "kertymä = []\n",
    "panos = 0.5\n",
    "keskikerroin = 15.1\n",
    "\n",
    "for i in range(0,4262):\n",
    "\n",
    "    #Tuloksen osuessa vetoihin, (panos*kerroin) miinus (panos*hävinneiden vetojen määrä)\n",
    "    if df.Peliaikatulos[i] in vedot:\n",
    "        kertymä.append((panos*keskikerroin)-(((len(vedot)-1)*panos)))\n",
    "    \n",
    "    #Mikäli oikea lopputulos ei vetojen joukossa, (panos*vetojen määrä) miinusta\n",
    "    else:\n",
    "        kertymä.append(len(vedot)*panos*(-1))\n",
    "\n",
    "sum(kertymä)"
   ]
  },
  {
   "cell_type": "code",
   "execution_count": 206,
   "metadata": {},
   "outputs": [
    {
     "data": {
      "text/plain": [
       "array(['2-2', '3-2', '1-1'], dtype=object)"
      ]
     },
     "execution_count": 206,
     "metadata": {},
     "output_type": "execute_result"
    }
   ],
   "source": [
    "#Tässä voi testata, mitä tuloksia yllä olevaan simulaattoriin menee head(x) eri arvoilla\n",
    "df.Peliaikatulos.value_counts().head(3).index.values"
   ]
  }
 ],
 "metadata": {
  "kernelspec": {
   "display_name": "Python 3",
   "language": "python",
   "name": "python3"
  },
  "language_info": {
   "codemirror_mode": {
    "name": "ipython",
    "version": 3
   },
   "file_extension": ".py",
   "mimetype": "text/x-python",
   "name": "python",
   "nbconvert_exporter": "python",
   "pygments_lexer": "ipython3",
   "version": "3.5.5"
  },
  "widgets": {
   "state": {},
   "version": "1.1.2"
  }
 },
 "nbformat": 4,
 "nbformat_minor": 2
}
